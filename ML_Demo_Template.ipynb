{
  "nbformat": 4,
  "nbformat_minor": 0,
  "metadata": {
    "colab": {
      "provenance": [],
      "toc_visible": true,
      "authorship_tag": "ABX9TyNodmBUtXQEDBLfaHZX0mtK",
      "include_colab_link": true
    },
    "kernelspec": {
      "name": "python3",
      "display_name": "Python 3"
    },
    "language_info": {
      "name": "python"
    }
  },
  "cells": [
    {
      "cell_type": "markdown",
      "metadata": {
        "id": "view-in-github",
        "colab_type": "text"
      },
      "source": [
        "<a href=\"https://colab.research.google.com/github/Yahayacs4u/Machine-Learning-Tutorial/blob/main/ML_Demo_Template.ipynb\" target=\"_parent\"><img src=\"https://colab.research.google.com/assets/colab-badge.svg\" alt=\"Open In Colab\"/></a>"
      ]
    },
    {
      "cell_type": "code",
      "execution_count": null,
      "metadata": {
        "id": "peUtsm-_vbDl"
      },
      "outputs": [],
      "source": [
        "# prompt: import all libraris for machine learning\n",
        "import numpy as np\n",
        "import pandas as pd\n",
        "from sklearn.model_selection import train_test_split\n",
        "from sklearn.preprocessing import StandardScaler, MinMaxScaler\n",
        "from sklearn.metrics import accuracy_score, classification_report, confusion_matrix\n",
        "import matplotlib.pyplot as plt\n",
        "import seaborn as sns\n",
        "import tensorflow as tf\n",
        "from tensorflow import keras\n",
        "from tensorflow.keras import layers\n",
        "from sklearn.ensemble import RandomForestClassifier\n",
        "from sklearn.linear_model import LogisticRegression\n",
        "from sklearn.svm import SVC\n",
        "from sklearn.neighbors import KNeighborsClassifier\n",
        "from sklearn.naive_bayes import GaussianNB\n",
        "from sklearn.tree import DecisionTreeClassifier\n",
        "from sklearn.ensemble import GradientBoostingClassifier"
      ]
    },
    {
      "cell_type": "code",
      "source": [
        "# Import necessary libraries\n",
        "from sklearn.model_selection import train_test_split\n",
        "from sklearn.linear_model import LogisticRegression\n",
        "from sklearn.metrics import accuracy_score\n",
        "\n",
        "# Load the Iris dataset\n",
        "from sklearn.datasets import load_iris\n",
        "iris = load_iris()\n",
        "\n",
        "# Create features (X) and target (y)\n",
        "X = iris.data\n",
        "y = iris.target\n",
        "\n",
        "# Split data into training and testing sets\n",
        "X_train, X_test, y_train, y_test = train_test_split(X, y, test_size=0.3, random_state=42) # 70% training and 30% test\n",
        "\n",
        "# Create a Logistic Regression model\n",
        "model = LogisticRegression()\n",
        "\n",
        "# Train the model\n",
        "model.fit(X_train, y_train)\n",
        "\n",
        "# Make predictions on the test set\n",
        "y_pred = model.predict(X_test)\n",
        "\n",
        "# Evaluate the model\n",
        "accuracy = accuracy_score(y_test, y_pred)\n",
        "print(f\"Accuracy: {accuracy}\")"
      ],
      "metadata": {
        "colab": {
          "base_uri": "https://localhost:8080/"
        },
        "id": "7djH2ZLYyRNb",
        "outputId": "26cb0d02-f07d-4e6c-a2e6-23eb22c8e272"
      },
      "execution_count": null,
      "outputs": [
        {
          "output_type": "stream",
          "name": "stdout",
          "text": [
            "Accuracy: 1.0\n"
          ]
        }
      ]
    },
    {
      "cell_type": "code",
      "source": [],
      "metadata": {
        "id": "6td-ixKWykcl"
      },
      "execution_count": null,
      "outputs": []
    },
    {
      "cell_type": "markdown",
      "source": [
        "# explanation of the above codes\n",
        "This code implements a Logistic Regression model to classify the Iris flower dataset using scikit-learn. Here's a breakdown of each step:\n",
        "\n",
        "1. Importing Libraries:\n",
        "\n",
        "from sklearn.model_selection import train_test_split: This line imports the train_test_split function from sklearn.model_selection. This function is used to split the data into training and testing sets.\n",
        "from sklearn.linear_model import LogisticRegression: This line imports the LogisticRegression class from sklearn.linear_model. This class implements the Logistic Regression algorithm for classification tasks.\n",
        "from sklearn.metrics import accuracy_score: This line imports the accuracy_score function from sklearn.metrics. This function is used to calculate the accuracy of a classification model.\n",
        "2. Loading the Iris Dataset:\n",
        "\n",
        "from sklearn.datasets import load_iris: This line imports the load_iris function from sklearn.datasets. This function is used to load the Iris flower dataset, which is a commonly used benchmark dataset in machine learning.\n",
        "iris = load_iris(): This line loads the Iris dataset and stores it in the iris variable.\n",
        "3. Creating Features and Target:\n",
        "\n",
        "X = iris.data: This line extracts the features (independent variables) from the dataset and stores them in the X variable. In the Iris dataset, these features represent characteristics of the flowers (e.g., sepal length, sepal width, petal length, petal width).\n",
        "y = iris.target: This line extracts the target variable (dependent variable) from the dataset and stores it in the y variable. In the Iris dataset, the target variable represents the type of Iris flower (e.g., Iris Setosa, Iris Versicolor, Iris Virginica).\n",
        "4. Splitting Data:\n",
        "\n",
        "X_train, X_test, y_train, y_test = train_test_split(X, y, test_size=0.3, random_state=42): This line splits the data into training and testing sets using the train_test_split function.\n",
        "X: The features (independent variables) to be split.\n",
        "y: The target variable (dependent variable) to be split.\n",
        "test_size=0.3: This parameter specifies the proportion of data to be used for the testing set (30% in this case). The remaining 70% will be used for training.\n",
        "random_state=42: This parameter sets a random seed for splitting the data. This ensures reproducibility when running the code multiple times.\n",
        "5. Creating a Logistic Regression Model:\n",
        "\n",
        "model = LogisticRegression(): This line creates a Logistic Regression model instance using the LogisticRegression class.\n",
        "6. Training the Model:\n",
        "\n",
        "model.fit(X_train, y_train): This line trains the Logistic Regression model on the training data (X_train and y_train). During training, the model learns the relationship between the features and the target variable.\n",
        "7. Making Predictions:\n",
        "\n",
        "y_pred = model.predict(X_test): This line makes predictions on the unseen test data (X_test) using the trained model. The predicted flower types are stored in the y_pred variable.\n",
        "8. Evaluating the Model:\n",
        "\n",
        "accuracy = accuracy_score(y_test, y_pred): This line calculates the accuracy of the model's predictions on the test set using the accuracy_score function. Accuracy is the proportion of correctly classified samples.\n",
        "print(f\"Accuracy: {accuracy}\"): This line prints the calculated accuracy score.\n",
        "Overall, this code demonstrates how to train and evaluate a Logistic Regression model for classification using scikit-learn.\n",
        "\n",
        "---\n",
        "\n",
        "**bold text** **bold text**"
      ],
      "metadata": {
        "id": "NILhpSEJ5HpF"
      }
    },
    {
      "cell_type": "code",
      "source": [],
      "metadata": {
        "id": "oZEITDck5NRY"
      },
      "execution_count": null,
      "outputs": []
    }
  ]
}